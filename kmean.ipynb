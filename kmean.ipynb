{
 "cells": [
  {
   "cell_type": "code",
   "execution_count": 1,
   "metadata": {},
   "outputs": [],
   "source": [
    "# The usual preamble\n",
    "%matplotlib inline\n",
    "import pandas as pd\n",
    "import numpy as np\n",
    "import matplotlib.pyplot as plt\n",
    "from sklearn.cluster import KMeans\n",
    "from sklearn import mixture\n",
    "from matplotlib.colors import LogNorm"
   ]
  },
  {
   "cell_type": "code",
   "execution_count": 58,
   "metadata": {},
   "outputs": [],
   "source": [
    "def getDataFrame(dim,trace=False) :\n",
    "    fileName='.\\Data\\CBL_'+str(dim)+'_features.csv'\n",
    "    dataFrame =  pd.read_csv(fileName,sep=',',header=None)\n",
    "    dataFrame = dataFrame.dropna(1)\n",
    "    if trace :\n",
    "        print(\"data size : \"+str(dataFrame.shape[0]))\n",
    "        print(\"shape :\" +str(dataFrame.shape))\n",
    "    return dataFrame\n",
    "                \n",
    "def nomalizeData(X):\n",
    "    Z = X - np.mean(X,axis=0)\n",
    "    N = Z/np.std(Z,axis=0)\n",
    "    return N\n",
    "\n",
    "def reduceDim(Xf,dim=0,trace=False,check=False):   \n",
    "    Xt=np.array(Xf[:,1:],dtype=float)\n",
    "    X=Xt.T\n",
    "    n=X.shape[0]\n",
    "    m=X.shape[1]\n",
    "    if trace :\n",
    "        print('n features:'+str(n))\n",
    "        print('m applications:'+str(m))\n",
    "        print('X  shape:'+str(X.shape))\n",
    "    U, s, Vt = np.linalg.svd(X)\n",
    "    d=s.shape[0]\n",
    "    if not dim or dim > d :\n",
    "        dim = d        \n",
    "    Xp=np.dot(U.T,X)\n",
    "    Xd=Xp[:dim,:].T   \n",
    "    if trace :\n",
    "        print('dimension :'+str(dim))\n",
    "        print('U  shape:'+str(U.shape))\n",
    "        print('s  shape:'+str(s.shape))\n",
    "        print('Xp shape:'+str(Xp.shape))\n",
    "        print('Xd shape:'+str(Xd.shape))\n",
    "    if check :\n",
    "        Ut=U[:,:d]\n",
    "        Cov=np.dot(X,Xt)\n",
    "        r=np.dot(Cov,Ut)-s*s*Ut\n",
    "        print('check : '+str(np.linalg.norm(r)))\n",
    "    return Xd\n",
    "\n",
    "def printCluster(Xf,labels):\n",
    "    L=Xf[:,0:2]\n",
    "    L[:,1]=labels\n",
    "    n=np.amax(L[:,1])\n",
    "    for i in range(n+1) :\n",
    "        print('cluster : '+str(i))\n",
    "        M = L[:,1] == i\n",
    "        LM = L[M]\n",
    "        print(LM[:,0])"
   ]
  },
  {
   "cell_type": "code",
   "execution_count": null,
   "metadata": {},
   "outputs": [],
   "source": [
    "dim=26\n",
    "\n",
    "Xframe =  getDataFrame('all',trace=True)\n",
    "#print(Xframe.head())\n",
    "#print(Xframe.describe())\n",
    "\n",
    "Xf=np.array(Xframe)\n",
    "Xd=reduceDim(Xf,dim=dim,trace=True,check=True)\n",
    "x=0\n",
    "y=x+1\n",
    "plt.scatter(Xd[:, x], Xd[:, y], s=10);\n",
    "\n",
    "\n",
    "test =  getDataFrame(dim)\n",
    "Xl=np.array(test)\n",
    "X26r=np.array(Xl[:,1:],dtype=float)\n",
    "print(X26r.shape)\n",
    "\n",
    "plt.scatter(X26r[:, x], X26r[:, y], s=10);\n",
    "print(np.linalg.norm(X26r-Xd))\n"
   ]
  },
  {
   "cell_type": "code",
   "execution_count": 36,
   "metadata": {},
   "outputs": [
    {
     "data": {
      "text/plain": [
       "KMeans(algorithm='auto', copy_x=True, init='k-means++', max_iter=20,\n",
       "    n_clusters=4, n_init=10000, n_jobs=1, precompute_distances='auto',\n",
       "    random_state=None, tol=0.0001, verbose=0)"
      ]
     },
     "execution_count": 36,
     "metadata": {},
     "output_type": "execute_result"
    }
   ],
   "source": [
    "n_cluster=4\n",
    "n_init=10000\n",
    "max_iter=20\n",
    "\n",
    "kmeans =KMeans(n_clusters=n_cluster,n_init=n_init, max_iter=max_iter)\n",
    "kmeans.fit(Xd)"
   ]
  },
  {
   "cell_type": "code",
   "execution_count": 40,
   "metadata": {},
   "outputs": [
    {
     "name": "stdout",
     "output_type": "stream",
     "text": [
      "cost    :1614.89237444\n",
      "iter :7\n",
      "cluster : 0\n",
      "['AM' 'CSE' 'NCCIP' 'RTS']\n",
      "cluster : 1\n",
      "['BM' 'Xact' 'CL' 'COL' 'PI2' 'IMT' 'NCS' 'TAX' 'AV' 'DSRV' 'GAIN' 'HYPA'\n",
      " 'MARS' 'CmaX' 'C4I' 'V+' 'BRDG' 'CCG' 'DDR' 'LCS' 'NCMS' 'NOS' 'PMC' 'PMI'\n",
      " 'RS' 'STOP' 'T2SI']\n",
      "cluster : 2\n",
      "['CUS']\n",
      "cluster : 3\n",
      "['RDF']\n"
     ]
    },
    {
     "data": {
      "image/png": "[encoded data removed]",
      "text/plain": [
       "<Figure size 432x288 with 1 Axes>"
      ]
     },
     "metadata": {},
     "output_type": "display_data"
    }
   ],
   "source": [
    "print('cost    :'+str(kmeans.inertia_))\n",
    "print('iter :'+str(kmeans.n_iter_))\n",
    "plt.scatter(Xd[:, 0], Xd[:, 1], c=kmeans.labels_, s=15, cmap='viridis')\n",
    "centers = kmeans.cluster_centers_\n",
    "plt.scatter(centers[:, 0], centers[:, 1], c='black', s=40, alpha=0.5)\n",
    "printCluster(Xframe,kmeans.labels_)"
   ]
  },
  {
   "cell_type": "code",
   "execution_count": 133,
   "metadata": {},
   "outputs": [],
   "source": [
    "n_cluster=4\n",
    "n_init=1000\n",
    "max_iter=200\n",
    "\n",
    "clf = mixture.GaussianMixture(n_components=n_cluster, n_init = n_init, \n",
    "                              covariance_type='full', verbose=0, tol=1e-4)\n",
    "clf.fit(Xd)\n",
    "labels = clf.predict(Xd)\n",
    "#probs=clf.predict_proba(Xd)"
   ]
  },
  {
   "cell_type": "code",
   "execution_count": 134,
   "metadata": {},
   "outputs": [
    {
     "name": "stdout",
     "output_type": "stream",
     "text": [
      "lower bound    :-19.2953883314\n",
      "iter :1\n",
      "cluster : 0\n",
      "['BM' 'Xact' 'IMT' 'PMC' 'PMI' 'STOP' 'T2SI']\n",
      "cluster : 1\n",
      "['CL' 'PI2' 'NCS' 'AM' 'GAIN' 'RDF' 'BRDG' 'CCG' 'LCS']\n",
      "cluster : 2\n",
      "['RTS']\n",
      "cluster : 3\n",
      "['COL' 'CUS' 'TAX' 'AV' 'DSRV' 'HYPA' 'MARS' 'CmaX' 'C4I' 'V+' 'CSE' 'DDR'\n",
      " 'NCCIP' 'NCMS' 'NOS' 'RS']\n"
     ]
    },
    {
     "data": {
      "text/plain": [
       "<matplotlib.collections.PathCollection at 0x223aec43b70>"
      ]
     },
     "execution_count": 134,
     "metadata": {},
     "output_type": "execute_result"
    },
    {
     "data": {
      "image/png": "[encoded data removed]",
      "text/plain": [
       "<Figure size 432x288 with 1 Axes>"
      ]
     },
     "metadata": {},
     "output_type": "display_data"
    }
   ],
   "source": [
    "print('lower bound    :'+str(clf.lower_bound_))\n",
    "#print('converged :'+str(clf.converged_))\n",
    "print('iter :'+str(clf.n_iter_))\n",
    "printCluster(Xf,labels)\n",
    "#print(clf.weights_)\n",
    "plt.scatter(Xd[:, 0], Xd[:, 1], c=labels, s=15, cmap='viridis')"
   ]
  },
  {
   "cell_type": "code",
   "execution_count": 64,
   "metadata": {},
   "outputs": [],
   "source": [
    "from matplotlib.patches import Ellipse\n",
    "\n",
    "def draw_ellipse(position, covariance, ax=None, **kwargs):\n",
    "    \"\"\"Draw an ellipse with a given position and covariance\"\"\"\n",
    "    ax = ax or plt.gca()\n",
    "    \n",
    "    # Convert covariance to principal axes\n",
    "    if covariance.shape == (2, 2):\n",
    "        U, s, Vt = np.linalg.svd(covariance)\n",
    "        angle = np.degrees(np.arctan2(U[1, 0], U[0, 0]))\n",
    "        width, height = 2 * np.sqrt(s)\n",
    "    else:\n",
    "        angle = 0\n",
    "        width, height = 2 * np.sqrt(covariance)\n",
    "    \n",
    "    # Draw the Ellipse\n",
    "    for nsig in range(1, 4):\n",
    "        ax.add_patch(Ellipse(position, nsig * width, nsig * height,\n",
    "                             angle, **kwargs))\n",
    "        \n",
    "def plot_gmm(gmm, X, label=True, ax=None):\n",
    "    ax = ax or plt.gca()\n",
    "#    labels = gmm.fit(X).predict(X)\n",
    "    if label:\n",
    "        ax.scatter(X[:, 0], X[:, 1], c=labels, s=15, cmap='viridis', zorder=2)\n",
    "    else:\n",
    "        ax.scatter(X[:, 0], X[:, 1], s=40, zorder=2)\n",
    "    ax.axis('equal')\n",
    "    \n",
    "    w_factor = 0.2 / gmm.weights_.max()\n",
    "    for pos, covar, w in zip(gmm.means_[:2], gmm.covariances_[:,:2,:2], gmm.weights_):\n",
    "        draw_ellipse(pos, covar, alpha=w * w_factor)"
   ]
  },
  {
   "cell_type": "code",
   "execution_count": 135,
   "metadata": {},
   "outputs": [
    {
     "data": {
      "image/png": "[encoded data removed]",
      "text/plain": [
       "<Figure size 432x288 with 1 Axes>"
      ]
     },
     "metadata": {},
     "output_type": "display_data"
    }
   ],
   "source": [
    "plot_gmm(clf, Xd)"
   ]
  },
  {
   "cell_type": "code",
   "execution_count": null,
   "metadata": {},
   "outputs": [],
   "source": []
  }
 ],
 "metadata": {
  "kernelspec": {
   "display_name": "Python 3",
   "language": "python",
   "name": "python3"
  },
  "language_info": {
   "codemirror_mode": {
    "name": "ipython",
    "version": 3
   },
   "file_extension": ".py",
   "mimetype": "text/x-python",
   "name": "python",
   "nbconvert_exporter": "python",
   "pygments_lexer": "ipython3",
   "version": "3.6.5"
  }
 },
 "nbformat": 4,
 "nbformat_minor": 2
}
